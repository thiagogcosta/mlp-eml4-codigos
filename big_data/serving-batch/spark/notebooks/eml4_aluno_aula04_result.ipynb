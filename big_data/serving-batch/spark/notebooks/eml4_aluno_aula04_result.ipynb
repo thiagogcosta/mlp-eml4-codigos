{
 "cells": [
  {
   "cell_type": "markdown",
   "metadata": {
    "application/vnd.databricks.v1+cell": {
     "cellMetadata": {
      "byteLimit": 2048000,
      "rowLimit": 10000
     },
     "inputWidgets": {},
     "nuid": "78af608f-4689-4c6e-8851-26f0aaf9b7d6",
     "showTitle": false,
     "title": ""
    }
   },
   "source": [
    "# EML4 - Aula 04 - Processamento de Massivo de Dados\n",
    "\n",
    "Principais links:\n",
    "* [Spark docs](https://spark.apache.org/docs/latest/)\n",
    "* [Dataset Adult Pre-processed](https://drive.google.com/file/d/1WLKTZUnhcVVwwBDvwe84TRSKdyHd-0uh/view?usp=sharing)\n",
    "  * Dados do censo de 1994\n",
    "  * [Link Repositório Original](https://archive.ics.uci.edu/ml/datasets/Adult)\n",
    "    *  Formato: csv"
   ]
  },
  {
   "cell_type": "markdown",
   "metadata": {
    "application/vnd.databricks.v1+cell": {
     "cellMetadata": {
      "byteLimit": 2048000,
      "rowLimit": 10000
     },
     "inputWidgets": {},
     "nuid": "6c3e71be-86d6-412f-a540-6a632c871af6",
     "showTitle": false,
     "title": ""
    }
   },
   "source": [
    "Nos notebooks da Databricks, o Spark Session fica disponivel pela variável global `spark`"
   ]
  },
  {
   "cell_type": "code",
   "execution_count": 1,
   "metadata": {
    "application/vnd.databricks.v1+cell": {
     "cellMetadata": {
      "byteLimit": 2048000,
      "rowLimit": 10000
     },
     "inputWidgets": {},
     "nuid": "a0aa3a0d-ab93-4f6e-8d8f-de2b0568a729",
     "showTitle": false,
     "title": ""
    }
   },
   "outputs": [
    {
     "data": {
      "text/html": [
       "\n",
       "            <div>\n",
       "                <p><b>SparkSession - hive</b></p>\n",
       "                \n",
       "        <div>\n",
       "            <p><b>SparkContext</b></p>\n",
       "\n",
       "            <p><a href=\"http://782a6cfc0c79:4041\">Spark UI</a></p>\n",
       "\n",
       "            <dl>\n",
       "              <dt>Version</dt>\n",
       "                <dd><code>v3.5.2</code></dd>\n",
       "              <dt>Master</dt>\n",
       "                <dd><code>local[*]</code></dd>\n",
       "              <dt>AppName</dt>\n",
       "                <dd><code>PySparkShell</code></dd>\n",
       "            </dl>\n",
       "        </div>\n",
       "        \n",
       "            </div>\n",
       "        "
      ],
      "text/plain": [
       "<pyspark.sql.session.SparkSession at 0x74e5d0d125c0>"
      ]
     },
     "execution_count": 1,
     "metadata": {},
     "output_type": "execute_result"
    }
   ],
   "source": [
    "spark"
   ]
  },
  {
   "cell_type": "code",
   "execution_count": 2,
   "metadata": {
    "application/vnd.databricks.v1+cell": {
     "cellMetadata": {
      "byteLimit": 2048000,
      "rowLimit": 10000
     },
     "inputWidgets": {},
     "nuid": "a0281bd1-ebf4-4315-aaef-995e4f4e2b18",
     "showTitle": false,
     "title": ""
    }
   },
   "outputs": [],
   "source": [
    "# Cole aqui o caminho gerado para o seu dataset\n",
    "dataset_location = \"adult-preprocessed.data\""
   ]
  },
  {
   "cell_type": "markdown",
   "metadata": {
    "application/vnd.databricks.v1+cell": {
     "cellMetadata": {
      "byteLimit": 2048000,
      "rowLimit": 10000
     },
     "inputWidgets": {},
     "nuid": "48e58d86-560c-4e7f-b264-cf72f97da866",
     "showTitle": false,
     "title": ""
    }
   },
   "source": [
    "### Upload do Dataset\n",
    "* Faça upload do conjunto de dados \"Adult\" preprocessado que disponibilizamos junto ao notebook da aula\n",
    "* Obtenha o caminho para DFS onde foi armazenado o arquivo e coloque na variável \"dataset_location\" no próxima célula"
   ]
  },
  {
   "cell_type": "markdown",
   "metadata": {
    "application/vnd.databricks.v1+cell": {
     "cellMetadata": {
      "byteLimit": 2048000,
      "rowLimit": 10000
     },
     "inputWidgets": {},
     "nuid": "316aade3-9d75-4604-aab7-b63ca73fcd6b",
     "showTitle": false,
     "title": ""
    }
   },
   "source": [
    "Uma fez feito o upload, o arquivo será divido, replicado e colocado em um DFS (Distributed File System). Para acessá-lo precisaremos utilizar uma estrutura que o abstraia.\n",
    "\n",
    "![Unified Engine](https://files.training.databricks.com/images/105/unified-engine.png)\n",
    "\n",
    "Inicialmente, a estrutura básica do Spark foi definida como RDD\n",
    "\n",
    "* **R**esilient: Fault-tolerant\n",
    "* **D**istributed: Across multiple nodes\n",
    "* **D**ataset: Collection of partitioned data\n",
    "\n",
    "RDDs são imutáveis quando criados e mantém registros de sua linhagem para recuperação de falhas! Estas estruturas permitem o acesso ao conjunto de dados distribuído, mas utilizam memória principal sempre que possível. Outras abstrações do Spark utilizam um RDD para acesso aos dados armazenados.\n",
    "\n",
    "Contudo, existem abstrações de alto nível, mais fáceis de usar e que possibilitam um resultado com melhor performance como os DataFrames!\n",
    "\n",
    "![RDD vs DataFrames](https://files.training.databricks.com/images/105/rdd-vs-dataframes.png)"
   ]
  },
  {
   "cell_type": "markdown",
   "metadata": {
    "application/vnd.databricks.v1+cell": {
     "cellMetadata": {
      "byteLimit": 2048000,
      "rowLimit": 10000
     },
     "inputWidgets": {},
     "nuid": "ca548981-e48b-4598-a9a0-a9122ab2cd49",
     "showTitle": false,
     "title": ""
    }
   },
   "source": [
    "### DataFrame\n",
    "Através da sessão, vamos importar o dataset para um DataFrame"
   ]
  },
  {
   "cell_type": "code",
   "execution_count": 3,
   "metadata": {
    "application/vnd.databricks.v1+cell": {
     "cellMetadata": {
      "byteLimit": 2048000,
      "rowLimit": 10000
     },
     "inputWidgets": {},
     "nuid": "63b3a794-0172-4db7-ad3c-ed828eff8353",
     "showTitle": false,
     "title": ""
    }
   },
   "outputs": [
    {
     "data": {
      "text/plain": [
       "DataFrame[_c0: int, _c1: string, _c2: int, _c3: string, _c4: int, _c5: string, _c6: string, _c7: string, _c8: string, _c9: string, _c10: int, _c11: int, _c12: int, _c13: string, _c14: string]"
      ]
     },
     "metadata": {},
     "output_type": "display_data"
    }
   ],
   "source": [
    "dataset = spark.read.format('csv') \\\n",
    "               .option('inferSchema', True) \\\n",
    "               .option('header', False) \\\n",
    "               .option('sep', ',') \\\n",
    "               .load(dataset_location)\n",
    "\n",
    "display(dataset)"
   ]
  },
  {
   "cell_type": "markdown",
   "metadata": {
    "application/vnd.databricks.v1+cell": {
     "cellMetadata": {
      "byteLimit": 2048000,
      "rowLimit": 10000
     },
     "inputWidgets": {},
     "nuid": "83435624-b0d5-4edf-9956-d1e5a13366ee",
     "showTitle": false,
     "title": ""
    }
   },
   "source": [
    "É possível obter o esquema de dados de um DataFrame usando o método `printSchema()`."
   ]
  },
  {
   "cell_type": "code",
   "execution_count": 4,
   "metadata": {
    "application/vnd.databricks.v1+cell": {
     "cellMetadata": {
      "byteLimit": 2048000,
      "rowLimit": 10000
     },
     "inputWidgets": {},
     "nuid": "c8c35625-cc7f-4377-a282-a868aabb6ae0",
     "showTitle": false,
     "title": ""
    }
   },
   "outputs": [
    {
     "name": "stdout",
     "output_type": "stream",
     "text": [
      "root\n",
      " |-- _c0: integer (nullable = true)\n",
      " |-- _c1: string (nullable = true)\n",
      " |-- _c2: integer (nullable = true)\n",
      " |-- _c3: string (nullable = true)\n",
      " |-- _c4: integer (nullable = true)\n",
      " |-- _c5: string (nullable = true)\n",
      " |-- _c6: string (nullable = true)\n",
      " |-- _c7: string (nullable = true)\n",
      " |-- _c8: string (nullable = true)\n",
      " |-- _c9: string (nullable = true)\n",
      " |-- _c10: integer (nullable = true)\n",
      " |-- _c11: integer (nullable = true)\n",
      " |-- _c12: integer (nullable = true)\n",
      " |-- _c13: string (nullable = true)\n",
      " |-- _c14: string (nullable = true)\n",
      "\n"
     ]
    }
   ],
   "source": [
    "dataset.printSchema()"
   ]
  },
  {
   "cell_type": "markdown",
   "metadata": {
    "application/vnd.databricks.v1+cell": {
     "cellMetadata": {
      "byteLimit": 2048000,
      "rowLimit": 10000
     },
     "inputWidgets": {},
     "nuid": "d147d95b-3f48-4bb3-876c-bf27e3d73631",
     "showTitle": false,
     "title": ""
    }
   },
   "source": [
    "O data set foi carregado como um DataFrame.\n",
    "\n",
    "Uma vez que o dataset não possuía header, não foi possível atribuir o nome das colunas automaticamente. \n",
    "\n",
    "Agora, vamos atribuir manualmente o nome às colunas"
   ]
  },
  {
   "cell_type": "code",
   "execution_count": 5,
   "metadata": {
    "application/vnd.databricks.v1+cell": {
     "cellMetadata": {
      "byteLimit": 2048000,
      "rowLimit": 10000
     },
     "inputWidgets": {},
     "nuid": "178304d8-872d-495c-b061-c94ee297b3ed",
     "showTitle": false,
     "title": ""
    }
   },
   "outputs": [
    {
     "data": {
      "text/plain": [
       "DataFrame[idade: int, classe_trabalho: string, final_weight: int, escolaridade: string, escolaridade_num: int, estado_civil: string, ocupacao: string, relacionamento_householder: string, raca: string, sexo: string, ganho_capital: int, perda_capital: int, jornada_trabalho: int, nacionalidade: string, renda_anual: string]"
      ]
     },
     "metadata": {},
     "output_type": "display_data"
    }
   ],
   "source": [
    "dataset1 = dataset \\\n",
    "            .withColumnRenamed('_c0', 'idade') \\\n",
    "            .withColumnRenamed('_c1', 'classe_trabalho') \\\n",
    "            .withColumnRenamed('_c2', 'final_weight') \\\n",
    "            .withColumnRenamed('_c3', 'escolaridade') \\\n",
    "            .withColumnRenamed('_c4', 'escolaridade_num') \\\n",
    "            .withColumnRenamed('_c5', 'estado_civil') \\\n",
    "            .withColumnRenamed('_c6', 'ocupacao') \\\n",
    "            .withColumnRenamed('_c7', 'relacionamento_householder') \\\n",
    "            .withColumnRenamed('_c8', 'raca') \\\n",
    "            .withColumnRenamed('_c9', 'sexo') \\\n",
    "            .withColumnRenamed('_c10', 'ganho_capital') \\\n",
    "            .withColumnRenamed('_c11', 'perda_capital') \\\n",
    "            .withColumnRenamed('_c12', 'jornada_trabalho') \\\n",
    "            .withColumnRenamed('_c13', 'nacionalidade') \\\n",
    "            .withColumnRenamed('_c14', 'renda_anual')\n",
    "\n",
    "display(dataset1)"
   ]
  },
  {
   "cell_type": "code",
   "execution_count": 6,
   "metadata": {
    "application/vnd.databricks.v1+cell": {
     "cellMetadata": {
      "byteLimit": 2048000,
      "rowLimit": 10000
     },
     "inputWidgets": {},
     "nuid": "e445f9ad-90c1-47ba-a335-3ac42a4e6e40",
     "showTitle": false,
     "title": ""
    }
   },
   "outputs": [
    {
     "name": "stdout",
     "output_type": "stream",
     "text": [
      "root\n",
      " |-- idade: integer (nullable = true)\n",
      " |-- classe_trabalho: string (nullable = true)\n",
      " |-- final_weight: integer (nullable = true)\n",
      " |-- escolaridade: string (nullable = true)\n",
      " |-- escolaridade_num: integer (nullable = true)\n",
      " |-- estado_civil: string (nullable = true)\n",
      " |-- ocupacao: string (nullable = true)\n",
      " |-- relacionamento_householder: string (nullable = true)\n",
      " |-- raca: string (nullable = true)\n",
      " |-- sexo: string (nullable = true)\n",
      " |-- ganho_capital: integer (nullable = true)\n",
      " |-- perda_capital: integer (nullable = true)\n",
      " |-- jornada_trabalho: integer (nullable = true)\n",
      " |-- nacionalidade: string (nullable = true)\n",
      " |-- renda_anual: string (nullable = true)\n",
      "\n"
     ]
    }
   ],
   "source": [
    "dataset1.printSchema()"
   ]
  },
  {
   "cell_type": "code",
   "execution_count": 7,
   "metadata": {
    "application/vnd.databricks.v1+cell": {
     "cellMetadata": {
      "byteLimit": 2048000,
      "rowLimit": 10000
     },
     "inputWidgets": {},
     "nuid": "6370f6c8-da2f-481f-b075-958390ce4876",
     "showTitle": false,
     "title": ""
    }
   },
   "outputs": [
    {
     "name": "stdout",
     "output_type": "stream",
     "text": [
      "+-----+-------------+\n",
      "|idade|nacionalidade|\n",
      "+-----+-------------+\n",
      "|   39|United-States|\n",
      "|   50|United-States|\n",
      "|   38|United-States|\n",
      "|   53|United-States|\n",
      "|   28|         Cuba|\n",
      "+-----+-------------+\n",
      "only showing top 5 rows\n",
      "\n"
     ]
    }
   ],
   "source": [
    "# Selecionando colunas específicas\n",
    "dataset1.select('idade', 'nacionalidade').show(5)"
   ]
  },
  {
   "cell_type": "code",
   "execution_count": 8,
   "metadata": {
    "application/vnd.databricks.v1+cell": {
     "cellMetadata": {
      "byteLimit": 2048000,
      "rowLimit": 10000
     },
     "inputWidgets": {},
     "nuid": "2c0c6c43-ce6c-410d-bed5-ad9fcaa67dda",
     "showTitle": false,
     "title": ""
    }
   },
   "outputs": [
    {
     "name": "stdout",
     "output_type": "stream",
     "text": [
      "+-------------+-------------+-------------------------------+\n",
      "|ganho_capital|perda_capital|(ganho_capital - perda_capital)|\n",
      "+-------------+-------------+-------------------------------+\n",
      "|         2174|            0|                           2174|\n",
      "|            0|            0|                              0|\n",
      "|            0|            0|                              0|\n",
      "|            0|            0|                              0|\n",
      "|            0|            0|                              0|\n",
      "+-------------+-------------+-------------------------------+\n",
      "only showing top 5 rows\n",
      "\n"
     ]
    }
   ],
   "source": [
    "# Operando colunas\n",
    "dataset1.select( \\\n",
    "                'ganho_capital', 'perda_capital', \\\n",
    "                dataset1['ganho_capital'] - dataset1['perda_capital'] \\\n",
    "               ).show(5)"
   ]
  },
  {
   "cell_type": "code",
   "execution_count": 9,
   "metadata": {
    "application/vnd.databricks.v1+cell": {
     "cellMetadata": {
      "byteLimit": 2048000,
      "rowLimit": 10000
     },
     "inputWidgets": {},
     "nuid": "7a9d26bf-7e34-45b8-aba8-65ed5aaaad89",
     "showTitle": false,
     "title": ""
    }
   },
   "outputs": [
    {
     "name": "stdout",
     "output_type": "stream",
     "text": [
      "+-------------+-------------+---------------+\n",
      "|ganho_capital|perda_capital|capital_liquido|\n",
      "+-------------+-------------+---------------+\n",
      "|         2174|            0|           2174|\n",
      "|            0|            0|              0|\n",
      "|            0|            0|              0|\n",
      "|            0|            0|              0|\n",
      "|            0|            0|              0|\n",
      "+-------------+-------------+---------------+\n",
      "only showing top 5 rows\n",
      "\n"
     ]
    }
   ],
   "source": [
    "# Utilizando expressões\n",
    "from pyspark.sql.functions import expr\n",
    "dataset1.select(\\\n",
    "     'ganho_capital', 'perda_capital',\\\n",
    "     expr('ganho_capital - perda_capital as capital_liquido')\\\n",
    ").show(5)"
   ]
  },
  {
   "cell_type": "code",
   "execution_count": 10,
   "metadata": {
    "application/vnd.databricks.v1+cell": {
     "cellMetadata": {
      "byteLimit": 2048000,
      "rowLimit": 10000
     },
     "inputWidgets": {},
     "nuid": "c7b7e54b-8058-4161-b770-c958d119992b",
     "showTitle": false,
     "title": ""
    }
   },
   "outputs": [
    {
     "name": "stdout",
     "output_type": "stream",
     "text": [
      "+-----------------+\n",
      "|       avg(idade)|\n",
      "+-----------------+\n",
      "|38.58164675532078|\n",
      "+-----------------+\n",
      "\n"
     ]
    }
   ],
   "source": [
    "# Utilizando expressões com agregação\n",
    "dataset1.selectExpr('avg(idade)').show()"
   ]
  },
  {
   "cell_type": "markdown",
   "metadata": {
    "application/vnd.databricks.v1+cell": {
     "cellMetadata": {
      "byteLimit": 2048000,
      "rowLimit": 10000
     },
     "inputWidgets": {},
     "nuid": "478a064a-c1d0-4480-a9f7-0db92d742fa4",
     "showTitle": false,
     "title": ""
    }
   },
   "source": [
    "#### Exercício 1\n",
    "Obtenha o valor máximo de capital líquido (ganho de capital - perda de capital)"
   ]
  },
  {
   "cell_type": "code",
   "execution_count": 11,
   "metadata": {
    "application/vnd.databricks.v1+cell": {
     "cellMetadata": {
      "byteLimit": 2048000,
      "rowLimit": 10000
     },
     "inputWidgets": {},
     "nuid": "4a30bbde-fa86-40a4-92f1-2a492831c07c",
     "showTitle": false,
     "title": ""
    }
   },
   "outputs": [
    {
     "name": "stdout",
     "output_type": "stream",
     "text": [
      "+------------------------------------+\n",
      "|max((ganho_capital - perda_capital))|\n",
      "+------------------------------------+\n",
      "|                               99999|\n",
      "+------------------------------------+\n",
      "\n"
     ]
    }
   ],
   "source": [
    "dataset1.selectExpr(\"max(ganho_capital - perda_capital)\").show()"
   ]
  },
  {
   "cell_type": "code",
   "execution_count": 12,
   "metadata": {
    "application/vnd.databricks.v1+cell": {
     "cellMetadata": {
      "byteLimit": 2048000,
      "rowLimit": 10000
     },
     "inputWidgets": {},
     "nuid": "9eddb527-0177-4704-a3d3-b4941bb918bc",
     "showTitle": false,
     "title": ""
    }
   },
   "outputs": [
    {
     "name": "stdout",
     "output_type": "stream",
     "text": [
      "+-----+---------------+------------+------------+----------------+------------------+--------------+--------------------------+-----+------+-------------+-------------+----------------+-------------+-----------+\n",
      "|idade|classe_trabalho|final_weight|escolaridade|escolaridade_num|      estado_civil|      ocupacao|relacionamento_householder| raca|  sexo|ganho_capital|perda_capital|jornada_trabalho|nacionalidade|renda_anual|\n",
      "+-----+---------------+------------+------------+----------------+------------------+--------------+--------------------------+-----+------+-------------+-------------+----------------+-------------+-----------+\n",
      "|   28|        Private|      338409|   Bachelors|              13|Married-civ-spouse|Prof-specialty|                      Wife|Black|Female|            0|            0|              40|         Cuba|      <=50K|\n",
      "|   23|        Private|      122272|   Bachelors|              13|     Never-married|  Adm-clerical|                 Own-child|White|Female|            0|            0|              30|United-States|      <=50K|\n",
      "+-----+---------------+------------+------------+----------------+------------------+--------------+--------------------------+-----+------+-------------+-------------+----------------+-------------+-----------+\n",
      "only showing top 2 rows\n",
      "\n",
      "+-----+----------------+------------+------------+----------------+------------------+---------------+--------------------------+-----+----+-------------+-------------+----------------+-------------+-----------+\n",
      "|idade| classe_trabalho|final_weight|escolaridade|escolaridade_num|      estado_civil|       ocupacao|relacionamento_householder| raca|sexo|ganho_capital|perda_capital|jornada_trabalho|nacionalidade|renda_anual|\n",
      "+-----+----------------+------------+------------+----------------+------------------+---------------+--------------------------+-----+----+-------------+-------------+----------------+-------------+-----------+\n",
      "|   39|       State-gov|       77516|   Bachelors|              13|     Never-married|   Adm-clerical|             Not-in-family|White|Male|         2174|            0|              40|United-States|      <=50K|\n",
      "|   50|Self-emp-not-inc|       83311|   Bachelors|              13|Married-civ-spouse|Exec-managerial|                   Husband|White|Male|            0|            0|              13|United-States|      <=50K|\n",
      "+-----+----------------+------------+------------+----------------+------------------+---------------+--------------------------+-----+----+-------------+-------------+----------------+-------------+-----------+\n",
      "only showing top 2 rows\n",
      "\n"
     ]
    }
   ],
   "source": [
    "# Filtrando registros\n",
    "dataset1.filter('idade < 30').show(2)\n",
    "dataset1.where('idade > 30').show(2)"
   ]
  },
  {
   "cell_type": "code",
   "execution_count": 13,
   "metadata": {
    "application/vnd.databricks.v1+cell": {
     "cellMetadata": {
      "byteLimit": 2048000,
      "rowLimit": 10000
     },
     "inputWidgets": {},
     "nuid": "27926796-f9bb-4b2a-ba90-b0489f1b35fa",
     "showTitle": false,
     "title": ""
    }
   },
   "outputs": [
    {
     "name": "stdout",
     "output_type": "stream",
     "text": [
      "+-----+---------------+------------+------------+----------------+-------------+---------------+--------------------------+------------------+------+-------------+-------------+----------------+-------------+-----------+\n",
      "|idade|classe_trabalho|final_weight|escolaridade|escolaridade_num| estado_civil|       ocupacao|relacionamento_householder|              raca|  sexo|ganho_capital|perda_capital|jornada_trabalho|nacionalidade|renda_anual|\n",
      "+-----+---------------+------------+------------+----------------+-------------+---------------+--------------------------+------------------+------+-------------+-------------+----------------+-------------+-----------+\n",
      "|   18|        Private|      226956|     HS-grad|               9|Never-married|  Other-service|                 Own-child|             White|Female|            0|            0|              30|            ?|      <=50K|\n",
      "|   27|        Private|      213921|     HS-grad|               9|Never-married|  Other-service|                 Own-child|             White|  Male|            0|            0|              40|       Mexico|      <=50K|\n",
      "|   19|        Private|      316868|Some-college|              10|Never-married|  Other-service|                 Own-child|             White|  Male|            0|            0|              30|       Mexico|      <=50K|\n",
      "|   28|        Private|       88419|     HS-grad|               9|Never-married|Exec-managerial|             Not-in-family|Asian-Pac-Islander|Female|            0|            0|              40|      England|      <=50K|\n",
      "|   19|              ?|      170653|     HS-grad|               9|Never-married|              ?|                 Own-child|             White|  Male|            0|            0|              40|        Italy|      <=50K|\n",
      "+-----+---------------+------------+------------+----------------+-------------+---------------+--------------------------+------------------+------+-------------+-------------+----------------+-------------+-----------+\n",
      "only showing top 5 rows\n",
      "\n"
     ]
    }
   ],
   "source": [
    "# Filtrando registros\n",
    "dataset1\\\n",
    "  .filter('idade < 30')\\\n",
    "  .where(dataset1['estado_civil'] == 'Never-married')\\\n",
    "  .filter(dataset1['nacionalidade'] != 'United-States')\\\n",
    "  .show(5)"
   ]
  },
  {
   "cell_type": "code",
   "execution_count": 14,
   "metadata": {
    "application/vnd.databricks.v1+cell": {
     "cellMetadata": {
      "byteLimit": 2048000,
      "rowLimit": 10000
     },
     "inputWidgets": {},
     "nuid": "5e31f3c6-0445-4eb9-a8af-e3ace7367c16",
     "showTitle": false,
     "title": ""
    }
   },
   "outputs": [
    {
     "data": {
      "text/plain": [
       "DataFrame[idade: int, classe_trabalho: string, final_weight: int, escolaridade: string, escolaridade_num: int, estado_civil: string, ocupacao: string, relacionamento_householder: string, raca: string, sexo: string, ganho_capital: int, perda_capital: int, jornada_trabalho: int, nacionalidade: string, renda_anual: string]"
      ]
     },
     "execution_count": 14,
     "metadata": {},
     "output_type": "execute_result"
    }
   ],
   "source": [
    "#ordenando por idade e filtrando por sexo\n",
    "dataset1\\\n",
    "  .sort(dataset1['idade'].desc())\\\n",
    "  .filter(dataset1['sexo'] == 'Male')\n",
    "\n",
    "#esse código tem boa performance?  "
   ]
  },
  {
   "cell_type": "markdown",
   "metadata": {
    "application/vnd.databricks.v1+cell": {
     "cellMetadata": {
      "byteLimit": 2048000,
      "rowLimit": 10000
     },
     "inputWidgets": {},
     "nuid": "45b209d8-64d6-4e21-9de6-7dcf5e51ecca",
     "showTitle": false,
     "title": ""
    }
   },
   "source": [
    "Porque os resultados não são mostrados na célula acima?\n",
    "\n",
    "Ordenação e filtros são transformações, que são avaliadas de forma *lazy* pelo Spark.\n",
    "\n",
    "Isso gera várias vantagens, dentre elas: impede a leitura desnecessária do conjunto de dados; facilita o paralelismo; possibilita otimização!\n",
    "  \n",
    "Para saber mais sobre o otimizador do Spark **Catalyst** leia [esse blog!](https://databricks.com/blog/2015/04/13/deep-dive-into-spark-sqls-catalyst-optimizer.html)\n",
    "  \n",
    "![Catalyst](https://files.training.databricks.com/images/105/catalyst-diagram.png)"
   ]
  },
  {
   "cell_type": "markdown",
   "metadata": {
    "application/vnd.databricks.v1+cell": {
     "cellMetadata": {
      "byteLimit": 2048000,
      "rowLimit": 10000
     },
     "inputWidgets": {},
     "nuid": "27c36efa-1bac-4eac-9f72-804749e0dd68",
     "showTitle": false,
     "title": ""
    }
   },
   "source": [
    "#### Exercício 2\n",
    "\n",
    "Obtenha a idade média das pessoas viúvas com jornada de trabalho acima de 20 horas semanais"
   ]
  },
  {
   "cell_type": "code",
   "execution_count": 15,
   "metadata": {
    "application/vnd.databricks.v1+cell": {
     "cellMetadata": {
      "byteLimit": 2048000,
      "rowLimit": 10000
     },
     "inputWidgets": {},
     "nuid": "8a01c88f-c5c3-426a-abad-177b03840da4",
     "showTitle": false,
     "title": ""
    }
   },
   "outputs": [
    {
     "name": "stdout",
     "output_type": "stream",
     "text": [
      "+------------------+\n",
      "|        avg(idade)|\n",
      "+------------------+\n",
      "|56.394101876675606|\n",
      "+------------------+\n",
      "\n"
     ]
    }
   ],
   "source": [
    "#Faça aqui o código do exercício 2\n",
    "\n",
    "dataset1 \\\n",
    "    .filter(\"jornada_trabalho > 20\") \\\n",
    "    .filter(dataset1[\"estado_civil\"] == \"Widowed\") \\\n",
    "    .selectExpr(\"avg(idade)\") \\\n",
    "    .show()"
   ]
  },
  {
   "cell_type": "code",
   "execution_count": 16,
   "metadata": {
    "application/vnd.databricks.v1+cell": {
     "cellMetadata": {
      "byteLimit": 2048000,
      "rowLimit": 10000
     },
     "inputWidgets": {},
     "nuid": "da027aee-b596-496f-a3a7-90b2c857a1a9",
     "showTitle": false,
     "title": ""
    }
   },
   "outputs": [
    {
     "name": "stdout",
     "output_type": "stream",
     "text": [
      "+--------------------+\n",
      "|        estado_civil|\n",
      "+--------------------+\n",
      "|           Separated|\n",
      "|       Never-married|\n",
      "|Married-spouse-ab...|\n",
      "|            Divorced|\n",
      "|             Widowed|\n",
      "|   Married-AF-spouse|\n",
      "|  Married-civ-spouse|\n",
      "+--------------------+\n",
      "\n"
     ]
    }
   ],
   "source": [
    "# Obtendo valores distintos\n",
    "dataset1.select('estado_civil').distinct().show()"
   ]
  },
  {
   "cell_type": "markdown",
   "metadata": {
    "application/vnd.databricks.v1+cell": {
     "cellMetadata": {
      "byteLimit": 2048000,
      "rowLimit": 10000
     },
     "inputWidgets": {},
     "nuid": "8cb0e327-a16d-45a7-beb4-2b2873f6fd0e",
     "showTitle": false,
     "title": ""
    }
   },
   "source": [
    "#### Exercício 3\n",
    "Obtendo valores distintos para a combinação de sexo e raça para pessoas com idade acima de 60 anos"
   ]
  },
  {
   "cell_type": "code",
   "execution_count": 17,
   "metadata": {
    "application/vnd.databricks.v1+cell": {
     "cellMetadata": {
      "byteLimit": 2048000,
      "rowLimit": 10000
     },
     "inputWidgets": {},
     "nuid": "3b1069d2-908f-4fd2-a051-f2abc25bc50c",
     "showTitle": false,
     "title": ""
    }
   },
   "outputs": [
    {
     "name": "stdout",
     "output_type": "stream",
     "text": [
      "+------+------------------+\n",
      "|  sexo|              raca|\n",
      "+------+------------------+\n",
      "|  Male|             White|\n",
      "|Female|Asian-Pac-Islander|\n",
      "|Female|             White|\n",
      "|Female|Amer-Indian-Eskimo|\n",
      "|  Male|             Other|\n",
      "|  Male|             Black|\n",
      "|  Male|Asian-Pac-Islander|\n",
      "|  Male|Amer-Indian-Eskimo|\n",
      "|Female|             Other|\n",
      "|Female|             Black|\n",
      "+------+------------------+\n",
      "\n"
     ]
    }
   ],
   "source": [
    "#Faça aqui o código do exercício 3\n",
    "dataset1 \\\n",
    "    .filter(\"idade > 60\") \\\n",
    "    .select(\"sexo\", \"raca\") \\\n",
    "    .distinct() \\\n",
    "    .show()"
   ]
  },
  {
   "cell_type": "code",
   "execution_count": 18,
   "metadata": {
    "application/vnd.databricks.v1+cell": {
     "cellMetadata": {
      "byteLimit": 2048000,
      "rowLimit": 10000
     },
     "inputWidgets": {},
     "nuid": "d26eb646-f71d-4b37-8620-409e81cdc28c",
     "showTitle": false,
     "title": ""
    }
   },
   "outputs": [
    {
     "name": "stdout",
     "output_type": "stream",
     "text": [
      "+------+-----------------+\n",
      "|  sexo|       avg(idade)|\n",
      "+------+-----------------+\n",
      "|Female|36.85823043357163|\n",
      "|  Male|39.43354749885268|\n",
      "+------+-----------------+\n",
      "\n"
     ]
    }
   ],
   "source": [
    "# Obtendo valores agregados, dado um agrupamento\n",
    "from pyspark.sql.functions \\\n",
    "    import count, sum, max, min, avg\n",
    "\n",
    "dataset1 \\\n",
    "    .groupBy('sexo') \\\n",
    "    .agg(avg('idade')) \\\n",
    "    .show()"
   ]
  },
  {
   "cell_type": "code",
   "execution_count": 19,
   "metadata": {
    "application/vnd.databricks.v1+cell": {
     "cellMetadata": {
      "byteLimit": 2048000,
      "rowLimit": 10000
     },
     "inputWidgets": {},
     "nuid": "00090a01-5915-4652-afac-02263d1ba9c4",
     "showTitle": false,
     "title": ""
    }
   },
   "outputs": [
    {
     "name": "stdout",
     "output_type": "stream",
     "text": [
      "+------+--------------------+------------------+----------+----------+\n",
      "|  sexo|        estado_civil|        avg(idade)|max(idade)|min(idade)|\n",
      "+------+--------------------+------------------+----------+----------+\n",
      "|  Male|   Married-AF-spouse|31.444444444444443|        47|        26|\n",
      "|Female|   Married-AF-spouse|33.142857142857146|        75|        19|\n",
      "|  Male|            Divorced|42.688311688311686|        83|        18|\n",
      "|  Male|             Widowed|61.666666666666664|        90|        18|\n",
      "|  Male|Married-spouse-ab...|41.568075117370896|        79|        18|\n",
      "|  Male|  Married-civ-spouse|43.708386515504166|        90|        17|\n",
      "|Female|           Separated| 39.59904912836767|        90|        19|\n",
      "|Female|             Widowed| 58.42787878787879|        90|        22|\n",
      "|Female|            Divorced| 43.27582335329341|        90|        19|\n",
      "|Female|  Married-civ-spouse| 39.54375377187689|        90|        17|\n",
      "|  Male|           Separated| 38.96192893401015|        74|        18|\n",
      "|Female|       Never-married| 28.12691420180407|        90|        17|\n",
      "|  Male|       Never-married|28.170385395537526|        90|        17|\n",
      "|Female|Married-spouse-ab...|39.551219512195125|        80|        19|\n",
      "+------+--------------------+------------------+----------+----------+\n",
      "\n"
     ]
    }
   ],
   "source": [
    "# Obtendo valores agregados, dado vários agrupamentos\n",
    "dataset1 \\\n",
    "    .groupBy('sexo', 'estado_civil') \\\n",
    "    .agg(avg('idade'), max('idade'), min('idade')) \\\n",
    "    .show()"
   ]
  },
  {
   "cell_type": "markdown",
   "metadata": {
    "application/vnd.databricks.v1+cell": {
     "cellMetadata": {
      "byteLimit": 2048000,
      "rowLimit": 10000
     },
     "inputWidgets": {},
     "nuid": "8d606451-1696-44af-af77-c836b8b3526c",
     "showTitle": false,
     "title": ""
    }
   },
   "source": [
    "#### Exercício 4\n",
    "Obtenha a média de capital líquido (ganho de capital - perda de capital) por escolaridade de pessoas com idade acima de 30 anos"
   ]
  },
  {
   "cell_type": "code",
   "execution_count": 20,
   "metadata": {
    "application/vnd.databricks.v1+cell": {
     "cellMetadata": {
      "byteLimit": 2048000,
      "rowLimit": 10000
     },
     "inputWidgets": {},
     "nuid": "cc257aaf-491e-44f6-a94c-27b4093b90f5",
     "showTitle": false,
     "title": ""
    }
   },
   "outputs": [
    {
     "name": "stdout",
     "output_type": "stream",
     "text": [
      "+------------+------------------------------------+\n",
      "|escolaridade|avg((ganho_capital - perda_capital))|\n",
      "+------------+------------------------------------+\n",
      "|     Masters|                  2643.3674540682414|\n",
      "|        10th|                   533.1254612546126|\n",
      "|     5th-6th|                  132.26141078838174|\n",
      "|  Assoc-acdm|                   732.9663072776281|\n",
      "|   Assoc-voc|                   655.4662638469285|\n",
      "|     7th-8th|                  196.75375939849624|\n",
      "|         9th|                   430.9438202247191|\n",
      "|     HS-grad|                   638.0167474048443|\n",
      "|   Bachelors|                  2117.6493677555322|\n",
      "|        11th|                   262.4105461393597|\n",
      "|     1st-4th|                   94.40579710144928|\n",
      "|   Preschool|                   72.71794871794872|\n",
      "|        12th|                  468.90909090909093|\n",
      "|   Doctorate|                   4751.202046035805|\n",
      "|Some-college|                   776.4566966398486|\n",
      "| Prof-school|                  10928.190291262135|\n",
      "+------------+------------------------------------+\n",
      "\n"
     ]
    }
   ],
   "source": [
    "#Faça aqui o código do exercício 4\n",
    "\n",
    "dataset1 \\\n",
    "    .filter('idade > 30') \\\n",
    "    .groupBy('escolaridade') \\\n",
    "    .agg(avg(expr('ganho_capital - perda_capital'))) \\\n",
    "    .show()"
   ]
  },
  {
   "cell_type": "code",
   "execution_count": 21,
   "metadata": {
    "application/vnd.databricks.v1+cell": {
     "cellMetadata": {
      "byteLimit": 2048000,
      "rowLimit": 10000
     },
     "inputWidgets": {},
     "nuid": "b80946ba-6352-4a95-87c4-0f6ae4534243",
     "showTitle": false,
     "title": ""
    }
   },
   "outputs": [
    {
     "name": "stdout",
     "output_type": "stream",
     "text": [
      "+---------------+------------------+\n",
      "|       ocupacao|       ganho_medio|\n",
      "+---------------+------------------+\n",
      "| Prof-specialty|2726.6995169082124|\n",
      "|Exec-managerial|2262.7729955730447|\n",
      "|          Sales| 1319.829315068493|\n",
      "|Protective-serv| 708.0986132511556|\n",
      "|   Tech-support| 673.5528017241379|\n",
      "+---------------+------------------+\n",
      "\n"
     ]
    }
   ],
   "source": [
    "# Obtendo as 5 ocupações com maior ganho de capital médio\n",
    "\n",
    "from pyspark.sql.functions import asc, desc\n",
    "dataset1 \\\n",
    "    .groupBy('ocupacao') \\\n",
    "    .agg(avg('ganho_capital').alias('ganho_medio')) \\\n",
    "    .orderBy(desc('ganho_medio')) \\\n",
    "    .limit(5) \\\n",
    "    .show()"
   ]
  },
  {
   "cell_type": "markdown",
   "metadata": {
    "application/vnd.databricks.v1+cell": {
     "cellMetadata": {
      "byteLimit": 2048000,
      "rowLimit": 10000
     },
     "inputWidgets": {},
     "nuid": "1905654b-a6e6-4f00-a0d1-ba4342aa89e2",
     "showTitle": false,
     "title": ""
    }
   },
   "source": [
    "#### Exercício 5\n",
    "Obtenha a combinação de escolaridade e ocupação com menor jornada de trabalho média que tenham renda maior de 50 mil dólares por ano"
   ]
  },
  {
   "cell_type": "code",
   "execution_count": 22,
   "metadata": {
    "application/vnd.databricks.v1+cell": {
     "cellMetadata": {
      "byteLimit": 2048000,
      "rowLimit": 10000
     },
     "inputWidgets": {},
     "nuid": "6c0db6e3-82ca-448d-8ae5-30c62864397b",
     "showTitle": false,
     "title": ""
    }
   },
   "outputs": [
    {
     "name": "stdout",
     "output_type": "stream",
     "text": [
      "+------------+-------------+-------------+\n",
      "|escolaridade|     ocupacao|jornada_media|\n",
      "+------------+-------------+-------------+\n",
      "|     Masters|Other-service|         15.0|\n",
      "+------------+-------------+-------------+\n",
      "\n"
     ]
    }
   ],
   "source": [
    "#Faça aqui o código do exercício 5\n",
    "\n",
    "dataset1 \\\n",
    "    .filter(dataset1['renda_anual'] ==  '>50K') \\\n",
    "    .groupBy('escolaridade', 'ocupacao') \\\n",
    "    .agg(avg('jornada_trabalho').alias('jornada_media')) \\\n",
    "    .orderBy('jornada_media') \\\n",
    "    .limit(1) \\\n",
    "    .show()"
   ]
  },
  {
   "cell_type": "code",
   "execution_count": 23,
   "metadata": {
    "application/vnd.databricks.v1+cell": {
     "cellMetadata": {
      "byteLimit": 2048000,
      "rowLimit": 10000
     },
     "inputWidgets": {},
     "nuid": "cefc08cd-656a-498b-b951-63bca43f4681",
     "showTitle": false,
     "title": ""
    }
   },
   "outputs": [
    {
     "name": "stdout",
     "output_type": "stream",
     "text": [
      "[Row(estado_civil='Separated', avg(idade)=39.35414634146341), Row(estado_civil='Never-married', avg(idade)=28.150987550313584), Row(estado_civil='Married-spouse-absent', avg(idade)=40.578947368421055), Row(estado_civil='Divorced', avg(idade)=43.04163853252307), Row(estado_civil='Widowed', avg(idade)=58.97583081570997), Row(estado_civil='Married-AF-spouse', avg(idade)=32.47826086956522), Row(estado_civil='Married-civ-spouse', avg(idade)=43.24759615384615)]\n",
      "39.35414634146341\n"
     ]
    }
   ],
   "source": [
    "# Usando collect, take ou first para obter os valores calculados\n",
    "\n",
    "resultado =  dataset1 \\\n",
    "    .groupBy('estado_civil')\\\n",
    "    .agg(avg('idade')) \\\n",
    "    .collect()\n",
    "\n",
    "print(resultado)\n",
    "\n",
    "print(resultado[0]['avg(idade)'])"
   ]
  },
  {
   "cell_type": "code",
   "execution_count": 24,
   "metadata": {
    "application/vnd.databricks.v1+cell": {
     "cellMetadata": {
      "byteLimit": 2048000,
      "rowLimit": 10000
     },
     "inputWidgets": {},
     "nuid": "25982f21-5aeb-4f3c-a69c-576bb7077c88",
     "showTitle": false,
     "title": ""
    }
   },
   "outputs": [
    {
     "name": "stdout",
     "output_type": "stream",
     "text": [
      "[Row(ocupacao='Sales'), Row(ocupacao='Exec-managerial'), Row(ocupacao='Prof-specialty'), Row(ocupacao='Handlers-cleaners'), Row(ocupacao='Farming-fishing'), Row(ocupacao='Craft-repair'), Row(ocupacao='Transport-moving'), Row(ocupacao='Priv-house-serv'), Row(ocupacao='Protective-serv'), Row(ocupacao='Other-service'), Row(ocupacao='Tech-support'), Row(ocupacao='Machine-op-inspct'), Row(ocupacao='Armed-Forces'), Row(ocupacao='?'), Row(ocupacao='Adm-clerical')]\n",
      "Sales: 37.353973\n",
      "Exec-managerial: 42.169208\n",
      "Prof-specialty: 40.517633\n",
      "Handlers-cleaners: 32.165693\n",
      "Farming-fishing: 41.211268\n",
      "Craft-repair: 39.031471\n",
      "Transport-moving: 40.197871\n",
      "Priv-house-serv: 41.724832\n",
      "Protective-serv: 38.953775\n",
      "Other-service: 34.949621\n",
      "Tech-support: 37.022629\n",
      "Machine-op-inspct: 37.715285\n",
      "Armed-Forces: 30.222222\n",
      "?: 40.882800\n",
      "Adm-clerical: 36.964456\n"
     ]
    }
   ],
   "source": [
    "#Obter a idade média por ocupação, substituindo o agrupamento de dados por um laço iterativo (não é uma estratégia recomendada)\n",
    "\n",
    "ocupacoes = dataset1.select('ocupacao').distinct().collect()\n",
    "\n",
    "print(ocupacoes)\n",
    "\n",
    "for i in ocupacoes:\n",
    "  ocupacao = i['ocupacao']\n",
    "  \n",
    "  idade_media = dataset1 \\\n",
    "      .filter(dataset1['ocupacao'] == ocupacao) \\\n",
    "      .selectExpr('avg(idade)') \\\n",
    "      .first()\n",
    "  \n",
    "  print(\"%s: %f\" % (ocupacao, idade_media['avg(idade)']))"
   ]
  },
  {
   "cell_type": "markdown",
   "metadata": {
    "application/vnd.databricks.v1+cell": {
     "cellMetadata": {
      "byteLimit": 2048000,
      "rowLimit": 10000
     },
     "inputWidgets": {},
     "nuid": "3adb4ca6-4df4-4a36-b405-f80e1c523185",
     "showTitle": false,
     "title": ""
    }
   },
   "source": [
    "### API SQL"
   ]
  },
  {
   "cell_type": "code",
   "execution_count": 25,
   "metadata": {
    "application/vnd.databricks.v1+cell": {
     "cellMetadata": {
      "byteLimit": 2048000,
      "rowLimit": 10000
     },
     "inputWidgets": {},
     "nuid": "3962c8dd-f97e-40eb-a028-2be29b532208",
     "showTitle": false,
     "title": ""
    }
   },
   "outputs": [],
   "source": [
    "# Para utilizar a API, vamos disponibilizar nosso DataFrame em formato de tabela para a API SQL\n",
    "\n",
    "temp_table_name = 'dataset'\n",
    "dataset1.createOrReplaceTempView(temp_table_name)"
   ]
  },
  {
   "cell_type": "code",
   "execution_count": 26,
   "metadata": {
    "application/vnd.databricks.v1+cell": {
     "cellMetadata": {
      "byteLimit": 2048000,
      "rowLimit": 10000
     },
     "inputWidgets": {},
     "nuid": "5b83114c-5c29-4359-8aa1-70c0897eeae9",
     "showTitle": false,
     "title": ""
    }
   },
   "outputs": [
    {
     "name": "stdout",
     "output_type": "stream",
     "text": [
      "+------+-----------------+\n",
      "|  sexo|      idade_media|\n",
      "+------+-----------------+\n",
      "|Female|36.85823043357163|\n",
      "|  Male|39.43354749885268|\n",
      "+------+-----------------+\n",
      "\n"
     ]
    }
   ],
   "source": [
    "# A partir de agora, é possível fazer consultas SQL sobre a tabela recém-criada (dataset).\n",
    "\n",
    "spark.sql('''\n",
    "  select sexo, avg(idade) as idade_media\n",
    "  from dataset\n",
    "  group by sexo\n",
    "''').show()"
   ]
  },
  {
   "cell_type": "code",
   "execution_count": 33,
   "metadata": {
    "application/vnd.databricks.v1+cell": {
     "cellMetadata": {
      "byteLimit": 2048000,
      "implicitDf": true,
      "rowLimit": 10000
     },
     "inputWidgets": {},
     "nuid": "df51c659-7001-4eed-b878-f45149bb5439",
     "showTitle": false,
     "title": ""
    }
   },
   "outputs": [],
   "source": [
    "# Isto funciona somente no databricks:\n",
    "# %sql\n",
    "# -- Consulta a partir de uma célula SQL\n",
    "# select sexo, avg(idade) as idade_media\n",
    "# from dataset\n",
    "# group by sexo"
   ]
  },
  {
   "cell_type": "markdown",
   "metadata": {
    "application/vnd.databricks.v1+cell": {
     "cellMetadata": {
      "byteLimit": 2048000,
      "rowLimit": 10000
     },
     "inputWidgets": {},
     "nuid": "e7889cff-c049-4dd4-a839-a5236fe8cee9",
     "showTitle": false,
     "title": ""
    }
   },
   "source": [
    "#### Exercício 6\n",
    "O atributo final_weight representa quantas vezes uma determinada leitura do censo é repetida, ou seja, o peso daquela linha no conjunto de dados. Itere sobre a lista das 5 maiores nacionalidades (baseado na soma do final weight) e para cada uma, obtenha os três estados civis com maior jornada de trabalho médio. Utilize a API SQL."
   ]
  },
  {
   "cell_type": "code",
   "execution_count": 34,
   "metadata": {
    "application/vnd.databricks.v1+cell": {
     "cellMetadata": {
      "byteLimit": 2048000,
      "rowLimit": 10000
     },
     "inputWidgets": {},
     "nuid": "1184546d-f06f-4215-82ae-a645dc479e58",
     "showTitle": false,
     "title": ""
    }
   },
   "outputs": [],
   "source": [
    "#Faça aqui o código do exercício 6"
   ]
  },
  {
   "cell_type": "code",
   "execution_count": 36,
   "metadata": {},
   "outputs": [
    {
     "name": "stdout",
     "output_type": "stream",
     "text": [
      "United-States\n",
      "Mexico\n",
      "?\n",
      "Philippines\n",
      "El-Salvador\n"
     ]
    }
   ],
   "source": [
    "nacionalidades = spark.sql('''\n",
    "    select nacionalidade, sum(final_weight) qtde\n",
    "    from dataset\n",
    "    group by nacionalidade\n",
    "    order by qtde desc\n",
    "    limit 5\n",
    "''').collect()\n",
    "\n",
    "for row in nacionalidades:\n",
    "    nacionalidade = row[\"nacionalidade\"]\n",
    "    print(nacionalidade)\n",
    "\n",
    "    res = spark.sql('''\n",
    "        select estado_civil, avg(jornada_trabalho) as jornada_media\n",
    "        from dataset\n",
    "        where nacionalidade = '%s'\n",
    "        group by estado_civil\n",
    "        order by jornada_media desc\n",
    "        limit 3\n",
    "    ''' % nacionalidade).collect()\n",
    "\n",
    "    for row2 in res:\n",
    "        print(\" %s: %d\" % row2[\"estado_civil\", row2[\"jornada_media\"]])\n"
   ]
  },
  {
   "cell_type": "code",
   "execution_count": null,
   "metadata": {},
   "outputs": [],
   "source": []
  }
 ],
 "metadata": {
  "application/vnd.databricks.v1+notebook": {
   "dashboards": [],
   "environmentMetadata": null,
   "language": "python",
   "notebookMetadata": {
    "mostRecentlyExecutedCommandWithImplicitDF": {
     "commandId": 2523146123376854,
     "dataframes": [
      "_sqldf"
     ]
    },
    "pythonIndentUnit": 2
   },
   "notebookName": "EML4 Aula 04 - Aluno",
   "widgets": {}
  },
  "kernelspec": {
   "display_name": "Python 3 (ipykernel)",
   "language": "python",
   "name": "python3"
  },
  "language_info": {
   "codemirror_mode": {
    "name": "ipython",
    "version": 3
   },
   "file_extension": ".py",
   "mimetype": "text/x-python",
   "name": "python",
   "nbconvert_exporter": "python",
   "pygments_lexer": "ipython3",
   "version": "3.10.11"
  },
  "name": "Aula 7",
  "notebookId": 4033064593187402
 },
 "nbformat": 4,
 "nbformat_minor": 4
}
